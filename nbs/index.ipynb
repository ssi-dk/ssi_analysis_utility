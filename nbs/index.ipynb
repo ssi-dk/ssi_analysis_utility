{
 "cells": [
  {
   "cell_type": "code",
   "execution_count": null,
   "metadata": {},
   "outputs": [],
   "source": [
    "#| hide\n",
    "from ssi_analysis_utility.core import *"
   ]
  },
  {
   "cell_type": "markdown",
   "metadata": {},
   "source": []
  },
  {
   "cell_type": "markdown",
   "metadata": {},
   "source": [
    "# Bioinformatics Snakemake Pipeline "
   ]
  },
  {
   "cell_type": "markdown",
   "metadata": {},
   "source": [
    "\n",
    "## Overview\n",
    "This Snakemake pipeline automates microbial genomic analyses, integrating tools for resistance gene detection, virulence factor identification, typing, and lineage determination."
   ]
  },
  {
   "cell_type": "markdown",
   "metadata": {},
   "source": [
    "## Installation\n",
    "\n",
    "1. Clone the repository:\n",
    "   ```bash\n",
    "   git clone <repository-url>\n",
    "   cd <repository-directory>\n",
    "   ```\n",
    "2. Install dependencies:\n",
    "    ```bash\n",
    "    conda env create -f environment.yaml\n",
    "    conda activate <env-name>"
   ]
  },
  {
   "cell_type": "markdown",
   "metadata": {},
   "source": [
    "## Running the Pipeline\n",
    "\n",
    "1. Prepare the samplesheet.tsv:\n",
    "\n",
    "- Include sample IDs, file paths for reads, and assembly files.\n",
    "Customize config.yaml:\n",
    "\n",
    "2. Define tools, databases, and analyses for your samples.\n",
    "\n",
    "3. Execute Snakemake:\n",
    "    ```bash\n",
    "    cd workflow\n",
    "    snakemake --configfile ../config/config.yaml --cores <N cores>\n",
    "    ```\n",
    "4. Results:\n",
    "- Output files will be stored in the directory specified by ```out_folder```\n"
   ]
  },
  {
   "cell_type": "markdown",
   "metadata": {},
   "source": [
    "## Output Structure\n",
    "\n",
    "Results are organized by species and sample:\n",
    "```\n",
    "results/\n",
    "├── Species_1/\n",
    "│   ├── sample1/\n",
    "│   │   ├── analysis_1/\n",
    "│   │   ├── analysis_2/\n",
    "│   │   └── analysis_3/\n",
    "│   └── sample2/\n",
    "|       ├── analysis_1/\n",
    "|       ├── analysis_2/\n",
    "|       ...\n",
    "├── Species_1/\n",
    "│   ├── sample1/\n",
    "|       ├── analysis_1/\n",
    "|       ...\n",
    "│   \n",
    "└── logs/\n",
    "```"
   ]
  }
 ],
 "metadata": {
  "kernelspec": {
   "display_name": "python3",
   "language": "python",
   "name": "python3"
  }
 },
 "nbformat": 4,
 "nbformat_minor": 4
}
