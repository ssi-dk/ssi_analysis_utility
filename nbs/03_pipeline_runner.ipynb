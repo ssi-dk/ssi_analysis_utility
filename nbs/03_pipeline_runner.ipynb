{
 "cells": [
  {
   "cell_type": "code",
   "execution_count": 19,
   "metadata": {},
   "outputs": [],
   "source": [
    "# |default_exp pipeline_runner\n",
    "# You need this at the top of every notebook you want turned into a module, the name your provide will determine the module name"
   ]
  },
  {
   "cell_type": "markdown",
   "metadata": {},
   "source": [
    "# Libraries\n"
   ]
  },
  {
   "cell_type": "code",
   "execution_count": 7,
   "metadata": {},
   "outputs": [],
   "source": [
    "# |export\n",
    "# That export there, it makes sure this code goes into the module.\n",
    "\n",
    "# standard libs\n",
    "import os\n",
    "import re\n",
    "\n",
    "# Common to template\n",
    "# add into settings.ini, requirements, package name is python-dotenv, for conda build ensure `conda config --add channels conda-forge`\n",
    "import dotenv  # for loading config from .env files, https://pypi.org/project/python-dotenv/\n",
    "import envyaml  # Allows to loads env vars into a yaml file, https://github.com/thesimj/envyaml\n",
    "import fastcore  # To add functionality related to nbdev development, https://github.com/fastai/fastcore/\n",
    "from fastcore import (\n",
    "    test,\n",
    ")\n",
    "from fastcore.script import (\n",
    "    call_parse,\n",
    ")  # for @call_parse, https://fastcore.fast.ai/script\n",
    "import json  # for nicely printing json and yaml\n",
    "from fastcore import test\n",
    "from ssi_analysis_utility import (\n",
    "    core,\n",
    "    sample_manager,\n",
    "    analysis_utility,\n",
    ")\n",
    "from fastcore.script import call_parse\n",
    "from pathlib import Path #to be able write :Path in cli function\n",
    "import snakemake \n",
    "\n",
    "# Project specific libraries\n",
    "import pandas as pd\n",
    "import numpy as np\n",
    "import subprocess"
   ]
  },
  {
   "cell_type": "code",
   "execution_count": 21,
   "metadata": {},
   "outputs": [],
   "source": [
    "# To change working directory when running notebook only. DO NOT EXPORT\n",
    "os.chdir(core.PROJECT_DIR)"
   ]
  },
  {
   "cell_type": "markdown",
   "metadata": {},
   "source": [
    "# Functions\n"
   ]
  },
  {
   "cell_type": "markdown",
   "metadata": {},
   "source": [
    "#### Check for required arguments\n",
    "\n",
    "The function will check if any of the required arguments are missing. If yes, the function will report which arguments are missing, and exit."
   ]
  },
  {
   "cell_type": "code",
   "execution_count": 22,
   "metadata": {},
   "outputs": [],
   "source": [
    "# |export\n",
    "\n",
    "def arguments_present_check(input_config):\n",
    "    #Check if an input-file is provided, either as argument or unit-test. If not, exit with error\n",
    "    if input_config[\"assembly_file\"] is None and input_config[\"Illumina_read_files\"] is None and input_config[\"Nanopore_read_file\"] is None and input_config[\"samplesheet\"] is None and input_config[\"input_folder\"] is None:\n",
    "        print(f\"Input data must be given in the form of sequence data (assembly_file, Illumina_read_files and/or Nanopore_read_files), an input_dir with sequencing data, or a metadatas tsv with paths to those files\")\n",
    "        return(False)\n",
    "    elif input_config[\"load_from_folder\"] and input_config[\"input_folder\"] is None:\n",
    "        print(f\"When running --load_from_folder an input directory must be provided with --input_folder\")\n",
    "    elif input_config[\"load_from_samplesheet\"] and (not input_config[\"samplesheet\"] or input_config[\"samplesheet\"] is None):\n",
    "        print(f\"When running --load_from_samplesheet a samplesheet must be provided with --samplesheet\")\n",
    "    else:\n",
    "        return(True)\n"
   ]
  },
  {
   "cell_type": "code",
   "execution_count": 8,
   "metadata": {},
   "outputs": [],
   "source": [
    "def run_pipeline(snakefile: Path, workdir: Path = Path(\"./output\"), cores: int = 1):\n",
    "    \"\"\"\n",
    "    Execute a Snakemake pipeline programmatically.\n",
    "\n",
    "    Args:\n",
    "        snakefile (Path): Path to the Snakefile defining the workflow.\n",
    "        workdir (Path): Working directory for the pipeline execution. Defaults to the current directory.\n",
    "        cores (int): Number of cores to use for the pipeline. Defaults to 1.\n",
    "    \"\"\"\n",
    "    success = snakemake(\n",
    "        snakefile=str(snakefile),\n",
    "        cores=cores,\n",
    "        workdir=str(workdir),\n",
    "        use_conda=True,  # Enable Conda if needed\n",
    "        force_incomplete=True,  # Rerun incomplete jobs\n",
    "        printreason=True,  # Show reasons for executing rules\n",
    "        dryrun=True,  # Set to True to preview the pipeline execution\n",
    "    )\n",
    "    if not success:\n",
    "        raise RuntimeError(\"Snakemake pipeline failed!\")"
   ]
  },
  {
   "cell_type": "markdown",
   "metadata": {},
   "source": [
    "### Spyogenes_analysis\n",
    "\n",
    "The species specific Spyogenes_analysis class inherits attributes and methods from sample_manager and analysis_utility.\n",
    "\n",
    "This includes attributes sample_name, assembly_file, Illumina_read_file, Nanopore_read_file, analysis_folder (output folder to store analyses for that specific sample).\n",
    "\n",
    "And numerous methods with generic analyses and functions to set up folders and logging in a standardized manner.\n"
   ]
  },
  {
   "cell_type": "code",
   "execution_count": 23,
   "metadata": {},
   "outputs": [],
   "source": [
    "# |export\n",
    "\n",
    "class Spyogenes_analysis(analysis_utility.analysis_utility):\n",
    "    \"\"\"\n",
    "    Class to perform analysis for Streptococcus pyogenes.\n",
    "    \"\"\"\n",
    "    \n",
    "    species = \"Streptococcus pyogenes\"\n",
    "    \n",
    "    def __init__(self, \n",
    "                 attributes, \n",
    "                 input_folder, \n",
    "                 output_folder, \n",
    "                 analysis_config):\n",
    "        \"\"\"\n",
    "        Initialize the Spyogenes_analysis class with sample attributes, input folder, output folder, \n",
    "        and analysis configuration.\n",
    "\n",
    "        Parameters:\n",
    "        -------------\n",
    "        attributes : dict\n",
    "            Dictionary containing sample information such as sample name, input files, etc.\n",
    "        input_folder : str\n",
    "            Path to the input folder containing required files for the analysis.\n",
    "        output_folder : str\n",
    "            Path to the output folder where analysis results will be saved.\n",
    "        analysis_config : dict\n",
    "            Dictionary containing configuration settings for the analyses to be performed.\n",
    "        \"\"\"\n",
    "        attributes = attributes.copy()\n",
    "        analysis_config = analysis_config.copy()\n",
    "        super().__init__(attributes, input_folder, output_folder, analysis_config)\n",
    "        self.run_analyses(analysis_config)\n",
    "    \n",
    "    def run_analyses(self, \n",
    "                     analysis_config):\n",
    "        \"\"\"\n",
    "        Runs the specified analyses on the sample based on the provided configuration.\n",
    "\n",
    "        Parameters:\n",
    "        -------------\n",
    "        analysis_config : dict\n",
    "            Configuration dictionary specifying which analyses to run and their settings.\n",
    "        \"\"\"\n",
    "        self.sample_setup()  # Setup sample before starting analyses\n",
    "        analyses_to_run = analysis_config[\"analyses_to_run\"]\n",
    "        \n",
    "        # Run lineage determination if specified\n",
    "        if \"assembly_lineage_determination\" in analyses_to_run:\n",
    "            lineage_determination_config = analysis_config[\"assembly_lineage_determination\"]\n",
    "            self._assembly_lineage_determination_(lineage_determination_config)\n",
    "        \n",
    "        # Run emm typing if specified\n",
    "        if \"emm_typing\" in analyses_to_run:\n",
    "            emm_typing_config = analysis_config[\"emm_typing\"]\n",
    "            self._emm_typing_(emm_typing_config)\n",
    "        \n",
    "        # Run resistance gene detection if specified\n",
    "        if \"resistance_gene_detection\" in analyses_to_run:\n",
    "            AMR_blast_config = analysis_config[\"resistance_gene_detection\"]\n",
    "            self._blast_presence_absence_(AMR_blast_config)\n",
    "        \n",
    "        # Run virulence gene detection if specified\n",
    "        if \"virulence_gene_detection\" in analyses_to_run:\n",
    "            VFDB_blast_config = analysis_config[\"virulence_gene_detection\"]\n",
    "            VFDB_blast_config[\"results_format\"] = \"string\"\n",
    "            self._blast_presence_absence_(VFDB_blast_config)\n",
    "        \n",
    "        #self.sample_cleanup()  # Cleanup after analyses are done\n",
    "        self.write_to_tsv()  # Write results to a TSV file\n",
    "\n",
    "\n",
    "class Spyogenes_manager(analysis_utility.analysis_manager):\n",
    "    \"\"\"\n",
    "    A class to manage the analysis of multiple Streptococcus pyogenes samples.\n",
    "    \"\"\"\n",
    "    \n",
    "    def __init__(self, \n",
    "                 input_config, \n",
    "                 analysis_settings_config):\n",
    "        \"\"\"\n",
    "        Initializes the Spyogenes_manager with input configuration and analysis settings.\n",
    "\n",
    "        Parameters:\n",
    "        -------------\n",
    "        input_config : dict\n",
    "            Configuration for input files and sample handling.\n",
    "        analysis_settings_config : dict\n",
    "            Configuration for the specific analyses to be run on the samples.\n",
    "        \"\"\"\n",
    "        super().__init__(input_config, \n",
    "                         analysis_settings_config)\n",
    "\n",
    "    def init_sample(self, \n",
    "                    attributes):\n",
    "        \"\"\"\n",
    "        Initializes a sample for analysis by creating an instance of `Spyogenes_analysis`.\n",
    "\n",
    "        Parameters:\n",
    "        -------------\n",
    "        attributes : dict\n",
    "            Dictionary containing sample-specific information, such as file paths and sample name.\n",
    "\n",
    "        Returns:\n",
    "        -------------\n",
    "        Spyogenes_analysis\n",
    "            An instance of `Spyogenes_analysis` initialized with the given sample attributes.\n",
    "        \"\"\"\n",
    "        try:\n",
    "            output_folder = os.path.abspath(attributes[\"output_folder\"])\n",
    "        except KeyError:\n",
    "            output_folder = os.path.join(self.base_output_folder, attributes[\"sample_name\"])\n",
    "        \n",
    "        sample = Spyogenes_analysis(attributes, self.base_input_folder, output_folder, self.analysis_settings_config)\n",
    "        return sample\n",
    "\n",
    "\n",
    "def print_fasta_from_dict(fasta_dict, output_file):\n",
    "    \"\"\"\n",
    "    Prints a dictionary of sequences in FASTA format to an output file.\n",
    "\n",
    "    Parameters:\n",
    "    -------------\n",
    "    fasta_dict : dict\n",
    "        Dictionary where keys are sequence headers and values are sequence strings.\n",
    "    output_file : str\n",
    "        Path to the output file where the FASTA data will be written.\n",
    "    \"\"\"\n",
    "    printlines = \"\"\n",
    "    for header, sequence in fasta_dict.items():\n",
    "        printlines += \">\" + header + \"\\n\" + sequence + \"\\n\"\n",
    "    \n",
    "    with open(output_file, 'w') as o:\n",
    "        o.write(printlines)\n"
   ]
  },
  {
   "cell_type": "markdown",
   "metadata": {},
   "source": [
    "### Testing\n",
    "\n",
    "The log parser unit test parses an rclone log found in tests/rclone_log_parser_test_log.txt. It verifies basic information like number of succesful and unsuccesful transfers in the log, and prints a tsv-formatted summary table of each transfer instance.\n",
    "\n",
    "Should there be some try/except statements here, so the user get some kind of direct feedback like \"all tests passed\" (or not, if thats the case)? Right now, I dont think its very obvious whether the test was successful or not, from the user-side."
   ]
  },
  {
   "cell_type": "code",
   "execution_count": 24,
   "metadata": {},
   "outputs": [],
   "source": [
    "# |export\n",
    "\n",
    "def single_test():\n",
    "    config = core.get_config()\n",
    "    example_sample = Spyogenes_analysis({#\"sample_name\":\"GAS-2022-1029\",\n",
    "                                       \"assembly_file\":\"examples/GAS-2022-1029.fasta\",\n",
    "                                       \"Illumina_read_files\":[\"examples/GAS-2022-1029_S42_L555_R1_001.fastq.gz\",\"examples/GAS-2022-1029_S42_L555_R2_001.fastq.gz\"]},\n",
    "                                       input_folder = False,\n",
    "                                       output_folder = \"output/GAS-2022-1029\",\n",
    "                                       analysis_config = config[\"analysis_settings\"][\"Spyogenes\"])\n",
    "    #assert(example_sample.sample_name == \"GAS-2022-1029\")\n",
    "    assert(len(example_sample.Illumina_read_files) == 2)\n",
    "    assert(not example_sample.Nanopore_read_file)\n",
    "    assert(example_sample.analysis_results[\"emm_typing\"][\"EMM_type\"] == \"1.0\")\n",
    "    assert(example_sample.analysis_results[\"assembly_lineage_determination\"][\"Lineage\"] == \"M1DK\")\n",
    "\n",
    "def single_test_input_folder():\n",
    "    config = core.get_config()\n",
    "    example_sample = Spyogenes_analysis({\"sample_name\":\"GAS-2024-0773\",\n",
    "                                       \"assembly_file\":\"GAS-2024-0773.fasta\",\n",
    "                                       \"Illumina_read_files\":\"GAS-2024-0773_S35_L555_R1_001.fastq.gz,GAS-2024-0773_S35_L555_R2_001.fastq.gz\"},\n",
    "                                       input_folder = \"examples\",\n",
    "                                       output_folder = \"output/GAS-2024-0773\",\n",
    "                                       analysis_config = config[\"analysis_settings\"][\"Spyogenes\"])\n",
    "    assert(example_sample.sample_name == \"GAS-2024-0773\")\n",
    "    assert(len(example_sample.Illumina_read_files) == 2)\n",
    "    assert(not example_sample.Nanopore_read_file)\n",
    "    assert(example_sample.analysis_results[\"emm_typing\"][\"EMM_type\"] == \"4.0\")\n",
    "    assert(example_sample.analysis_results[\"emm_typing\"][\"ENN_type\"] == \"203.3*\")\n",
    "    assert(example_sample.analysis_results[\"emm_typing\"][\"MRP_type\"] == \"156.0\")\n",
    "    assert(example_sample.analysis_results[\"assembly_lineage_determination\"][\"Lineage\"] == \"-\")\n",
    "\n",
    "\n",
    "def folder_test():\n",
    "    config = core.get_config()\n",
    "    input_config =  config[\"input_manager\"]\n",
    "    input_config[\"load_from_folder\"] = True\n",
    "    input_config[\"input_folder\"] = \"examples/\"\n",
    "    #input_config[\"samplesheet\"] = \"samplesheet.tsv\"\n",
    "    input_config[\"output_folder\"] = \"output_from_folder/\"\n",
    "    input_config[\"analysis_config\"] = config[\"analysis_settings\"][\"Spyogenes\"]\n",
    "    test = Spyogenes_manager(input_config,config[\"analysis_settings\"][\"Spyogenes\"])\n",
    "\n",
    "\n",
    "def folder_test_with_metadata():\n",
    "    config = core.get_config()\n",
    "    input_config =  config[\"input_manager\"]\n",
    "    input_config[\"load_from_folder\"] = True\n",
    "    input_config[\"input_folder\"] = \"examples/\"\n",
    "    input_config[\"samplesheet\"] = \"examples/samplesheet.tsv\"\n",
    "    input_config[\"output_folder\"] = \"output_from_folder/\"\n",
    "    input_config[\"analysis_config\"] = config[\"analysis_settings\"][\"Spyogenes\"]\n",
    "    test = Spyogenes_manager(input_config,config[\"analysis_settings\"][\"Spyogenes\"])\n",
    "\n",
    "def samplesheet_test():\n",
    "    config = core.get_config()\n",
    "    input_config =  config[\"input_manager\"]\n",
    "    input_config[\"load_from_samplesheet\"] = True\n",
    "    input_config[\"samplesheet\"] = \"examples/samplesheet.tsv\"\n",
    "    input_config[\"output_folder\"] = \"output_from_samplesheet/\"\n",
    "    input_config[\"analysis_config\"] = config[\"analysis_settings\"][\"Spyogenes\"]\n",
    "    test = Spyogenes_manager(input_config,config[\"analysis_settings\"][\"Spyogenes\"])\n",
    "    print(test.__dict__)\n",
    "    for x in test:\n",
    "        print(x.__dict__)\n",
    "\n",
    "\n"
   ]
  },
  {
   "cell_type": "code",
   "execution_count": 25,
   "metadata": {},
   "outputs": [],
   "source": [
    "single_test()"
   ]
  },
  {
   "cell_type": "code",
   "execution_count": 26,
   "metadata": {},
   "outputs": [],
   "source": [
    "single_test_input_folder()"
   ]
  },
  {
   "cell_type": "code",
   "execution_count": 27,
   "metadata": {},
   "outputs": [],
   "source": [
    "folder_test()"
   ]
  },
  {
   "cell_type": "code",
   "execution_count": 28,
   "metadata": {},
   "outputs": [],
   "source": [
    "folder_test_with_metadata()"
   ]
  },
  {
   "cell_type": "code",
   "execution_count": 29,
   "metadata": {},
   "outputs": [
    {
     "name": "stdout",
     "output_type": "stream",
     "text": [
      "{'analysis_settings_config': {'analyses_to_run': {'emm_typing': 'Typing of M protein gene using blast against CDC curated alleles', 'assembly_lineage_determination': 'Lineage determination based on presence of specified SNPs when mapping genome assembly against reference genome', 'resistance_gene_detection': 'Presence of resistance gens tetM, ermA and ermB', 'virulence_gene_detection': 'Presence of Streptococcal virulence genes from the Virulence Factor Database'}, 'assembly_lineage_determination': {'alias': 'assembly_lineage_determination', 'percent_snp_threshold': 50, 'files_to_clean': ['delta', 'filtered_delta', 'frankenfasta'], 'reference_fasta_file': './resources/lineage_determination/MGAS5005.fasta', 'lineage_variant_file': './resources/lineage_determination/Spyogenes_LOCs.tsv'}, 'emm_typing': {'alias': 'emm_typing', 'emm_allele_file': './resources/emm_typing/emm_alleles.fasta', 'emm_cluster_file': './resources/emm_typing/emm_enn_mrp_subgroups.txt', 'blast_header': 'qseqid sseqid pident length qlen qstart qend sstart send sseq evalue bitscore', 'files_to_clean': ['blast']}, 'resistance_gene_detection': {'pident_threshold': 80, 'cov_threshold': 80, 'additional_blast_parameters': '', 'blast_header': 'qseqid sseqid pident length qlen qstart qend sstart send sseq evalue bitscore', 'results_format': 'matrix', 'files_to_clean': ['blast'], 'alias': 'resistance_genes', 'query_fasta_file': './resources/AMR/AMR_genes.fasta'}, 'virulence_gene_detection': {'pident_threshold': 80, 'cov_threshold': 80, 'additional_blast_parameters': '', 'blast_header': 'qseqid sseqid pident length qlen qstart qend sstart send sseq evalue bitscore', 'results_format': 'string', 'files_to_clean': ['blast'], 'alias': 'virulence_genes', 'query_fasta_file': './resources/virulence_factors/VFDB_genes.fasta'}, 'Illumina_lineage_determination': {'alias': 'Illumina_lineage_determination', 'reference_fasta_file': './resources/lineage_determination/MGAS5005.fasta', 'lineage_variant_file': './resources/lineage_determination/Spyogenes_LOCs.tsv', 'files_to_clean': ['vcf', 'bam', 'bam_index']}}, 'base_output_folder': '/dpssi/home/scrsim/ssi_analysis_utility/output_from_samplesheet', 'base_input_folder': '/dpssi/home/scrsim/ssi_analysis_utility/examples', 'metadata_file': '/dpssi/home/scrsim/ssi_analysis_utility/examples/samplesheet.tsv', 'metadata': {'GAS-2022-1029': {'Illumina_read_files': 'GAS-2022-1029_S42_L555_R1_001.fastq.gz,GAS-2022-1029_S42_L555_R2_001.fastq.gz', 'Nanopore_read_file': 'GAS-2022-1029_nanopore.fastq.gz', 'assembly_file': 'GAS-2022-1029.fasta', 'organism': 'Streptococcus pyogenes', 'variant': 'M1DK', 'notes': 'speC positive'}}, 'samples': [<__main__.Spyogenes_analysis object at 0x7fbd81d3e090>]}\n",
      "{'input_folder': '/dpssi/home/scrsim/ssi_analysis_utility/examples', 'sample_name': 'GAS-2022-1029', 'assembly_file': '/dpssi/home/scrsim/ssi_analysis_utility/examples/GAS-2022-1029.fasta', 'Illumina_read_files': ['/dpssi/home/scrsim/ssi_analysis_utility/examples/GAS-2022-1029_S42_L555_R1_001.fastq.gz', '/dpssi/home/scrsim/ssi_analysis_utility/examples/GAS-2022-1029_S42_L555_R2_001.fastq.gz'], 'Nanopore_read_file': '/dpssi/home/scrsim/ssi_analysis_utility/examples/GAS-2022-1029_nanopore.fastq.gz', 'metadata': {'Illumina_read_files': 'GAS-2022-1029_S42_L555_R1_001.fastq.gz,GAS-2022-1029_S42_L555_R2_001.fastq.gz', 'Nanopore_read_file': 'GAS-2022-1029_nanopore.fastq.gz', 'assembly_file': 'GAS-2022-1029.fasta', 'organism': 'Streptococcus pyogenes', 'variant': 'M1DK', 'notes': 'speC positive', 'sample_name': 'GAS-2022-1029'}, 'analysis_results': {'assembly_lineage_determination': {'Lineage': 'M1DK'}, 'emm_typing': {'EMM_type': '1.0', 'EMM_cluster': 'EMM_SG8', 'ENN_type': '-', 'ENN_cluster': '-', 'MRP_type': '-', 'MRP_cluster': '-', 'unclassified_emm_like_alleles': '-'}, 'resistance_genes': {'tetM': '0', 'ermA': '0', 'ermB': '0'}, 'virulence_genes': {'virulence_genes_genes_found': 'MGAS10750_RS02400,SPY_RS07465,SPY_RS07470,SPY_RS07480,cfa/cfb,cppA,endoS,fbp54,fctA,fctB,galU,grab,hasA,hasB,hasC,htrA/degP,hylA,ideS/mac,isdE,lepA,lmb,mf/spd,mf2,mf3,plr/gapA,psaA,sagA,sclA,sclB,scpA/scpB,sda,shr,ska,slo,smeZ,speA,speB,speC,speG,spyA,srtC1,tig/ropA'}}, 'analysis_output_files': {'assembly_lineage_determination': {'frankenfasta': '/dpssi/home/scrsim/ssi_analysis_utility/output_from_samplesheet/GAS-2022-1029/assembly_lineage_determination/GAS-2022-1029.frankenfasta', 'delta': '/dpssi/home/scrsim/ssi_analysis_utility/output_from_samplesheet/GAS-2022-1029/assembly_lineage_determination/GAS-2022-1029.delta', 'filtered_delta': '/dpssi/home/scrsim/ssi_analysis_utility/output_from_samplesheet/GAS-2022-1029/assembly_lineage_determination/GAS-2022-1029.filtered.delta'}, 'emm_typing': {'blast': '/dpssi/home/scrsim/ssi_analysis_utility/output_from_samplesheet/GAS-2022-1029/emm_typing/blast.tsv'}, 'resistance_genes': {'blast': '/dpssi/home/scrsim/ssi_analysis_utility/output_from_samplesheet/GAS-2022-1029/resistance_genes/blast_output.tsv'}, 'virulence_genes': {'blast': '/dpssi/home/scrsim/ssi_analysis_utility/output_from_samplesheet/GAS-2022-1029/virulence_genes/blast_output.tsv'}}, 'output_folder': '/dpssi/home/scrsim/ssi_analysis_utility/output_from_samplesheet/GAS-2022-1029', 'analysis_config': {'analyses_to_run': {'emm_typing': 'Typing of M protein gene using blast against CDC curated alleles', 'assembly_lineage_determination': 'Lineage determination based on presence of specified SNPs when mapping genome assembly against reference genome', 'resistance_gene_detection': 'Presence of resistance gens tetM, ermA and ermB', 'virulence_gene_detection': 'Presence of Streptococcal virulence genes from the Virulence Factor Database'}, 'assembly_lineage_determination': {'alias': 'assembly_lineage_determination', 'percent_snp_threshold': 50, 'files_to_clean': ['delta', 'filtered_delta', 'frankenfasta'], 'reference_fasta_file': './resources/lineage_determination/MGAS5005.fasta', 'lineage_variant_file': './resources/lineage_determination/Spyogenes_LOCs.tsv'}, 'emm_typing': {'alias': 'emm_typing', 'emm_allele_file': './resources/emm_typing/emm_alleles.fasta', 'emm_cluster_file': './resources/emm_typing/emm_enn_mrp_subgroups.txt', 'blast_header': 'qseqid sseqid pident length qlen qstart qend sstart send sseq evalue bitscore', 'files_to_clean': ['blast']}, 'resistance_gene_detection': {'pident_threshold': 80, 'cov_threshold': 80, 'additional_blast_parameters': '', 'blast_header': 'qseqid sseqid pident length qlen qstart qend sstart send sseq evalue bitscore', 'results_format': 'matrix', 'files_to_clean': ['blast'], 'alias': 'resistance_genes', 'query_fasta_file': './resources/AMR/AMR_genes.fasta'}, 'virulence_gene_detection': {'pident_threshold': 80, 'cov_threshold': 80, 'additional_blast_parameters': '', 'blast_header': 'qseqid sseqid pident length qlen qstart qend sstart send sseq evalue bitscore', 'results_format': 'string', 'files_to_clean': ['blast'], 'alias': 'virulence_genes', 'query_fasta_file': './resources/virulence_factors/VFDB_genes.fasta'}, 'Illumina_lineage_determination': {'alias': 'Illumina_lineage_determination', 'reference_fasta_file': './resources/lineage_determination/MGAS5005.fasta', 'lineage_variant_file': './resources/lineage_determination/Spyogenes_LOCs.tsv', 'files_to_clean': ['vcf', 'bam', 'bam_index']}}, 'logger': <RootLogger root (INFO)>, 'log_filehandle': <FileHandler /dpssi/home/scrsim/ssi_analysis_utility/output_from_samplesheet/GAS-2022-1029/analysis.log (NOTSET)>}\n"
     ]
    }
   ],
   "source": [
    "samplesheet_test()"
   ]
  },
  {
   "cell_type": "markdown",
   "metadata": {},
   "source": [
    "#### Cli function\n",
    "\n",
    "This function is responsible for the execution of the current notebook, including parsing arguments.\n",
    "\n",
    "The current version of the code require specification of an input log-file. It can be specified using the --input argument, or by providing a config-file as argument (with the log-file specified). If neither argument is specified, the script will exit with an error.\n",
    "\n",
    "It is also possible to run a \"unit-test\", by specyfying the \"unit_test\" flag. In that case, the script will run on the test log-file provided with the repo, and exit without doing anything else."
   ]
  },
  {
   "cell_type": "code",
   "execution_count": 30,
   "metadata": {},
   "outputs": [],
   "source": [
    "# |export\n",
    "\n",
    "@call_parse\n",
    "def cli(\n",
    "    #Definition of command-line arguments\n",
    "    assembly_file:str = None, # Path to genome assembly file in fasta format\n",
    "    Illumina_read_files:str = None, # Path to paired end read files, comma separated.\n",
    "    Nanopore_read_file:str = None, # Path to single end Nanopore read file\n",
    "    samplesheet:str = None, # Path to samplesheet containing metadata in tsv-format\n",
    "    input_folder:str = None, # Path to input folder containing assembly files, Illumina read files or Nanopore read files. Overwrites any provided assembly_file and read_file input\n",
    "    output_folder:str = None, # Path to output folder\n",
    "    analyses_to_run: str = \"all\", # Comma separated list of analyses to perform. F.ex. \"emm_typing,virulence_gene_detection\"\n",
    "    keep_files: str = None, # Intermediate outputs to keep. See readme for details on string format\n",
    "    # load_from_folder: bool = False, # Flag to indicate\n",
    "    load_from_samplesheet: bool = False, # Run analyses on samples listed in provided samplesheet\n",
    "    config_file: Path = None, #Config-file containing all required arguments (required, unless using input arg)\n",
    "    show_analyses: bool = False, # Print available analyses and exit\n",
    ") -> None:\n",
    "    #Set env vars and get config variables\n",
    "    config = core.get_config(config_file)\n",
    "    input_config = config[\"input_manager\"]\n",
    "    analysis_config = config[\"analysis_settings\"][\"Spyogenes\"]\n",
    "    if show_analyses:\n",
    "        analysis_utility.print_analysis_options(analysis_config)\n",
    "    else:\n",
    "        input_config,analysis_config = analysis_utility.update_cli_input_config(input_config,analysis_config,samplesheet,input_folder,assembly_file,Illumina_read_files,Nanopore_read_file,output_folder,load_from_samplesheet,analyses_to_run,keep_files)\n",
    "        #Check if any required arguments are missing\n",
    "        if arguments_present_check(input_config):\n",
    "            print(\"Running analyses\")\n",
    "            if input_folder is not None or load_from_samplesheet:\n",
    "                Spyogenes_manager(input_config,analysis_config)\n",
    "            else:\n",
    "                sample_attributes = sample_manager.get_single_sample_attributes(input_config)\n",
    "                Spyogenes_analysis(sample_attributes,input_folder=False,output_folder=output_folder,analysis_config=analysis_config)\n",
    "        #Possible next: print some summary information to stdout about transfers found? Not sure if that is necessary in production.\n",
    "        #Next: write function that adds data into transfer-db"
   ]
  },
  {
   "cell_type": "code",
   "execution_count": 31,
   "metadata": {},
   "outputs": [],
   "source": [
    "# | hide\n",
    "# This is included at the end to ensure when you run through your notebook the code is also transferred to the module and isn't just a notebook\n",
    "import nbdev\n",
    "\n",
    "nbdev.nbdev_export()"
   ]
  },
  {
   "cell_type": "code",
   "execution_count": 32,
   "metadata": {},
   "outputs": [
    {
     "data": {
      "text/plain": [
       "{'sample_name': 'GAS-2024-0773',\n",
       " 'assembly_file': 'GAS-2024-0773.fasta',\n",
       " 'Illumina_read_files': 'GAS-2024-0773_S35_L555_R1_001.fastq.gz,GAS-2024-0773_S35_L555_R2_001.fastq.gz'}"
      ]
     },
     "execution_count": 32,
     "metadata": {},
     "output_type": "execute_result"
    }
   ],
   "source": [
    "config = core.get_config()\n",
    "input_config =  config[\"input_manager\"]\n",
    "input_config[\"load_from_samplesheet\"] = True\n",
    "input_config[\"samplesheet\"] = \"examples/samplesheet.tsv\"\n",
    "input_config[\"output_folder\"] = \"output_from_samplesheet/\"\n",
    "input_config[\"analysis_config\"] = config[\"analysis_settings\"][\"Spyogenes\"]\n",
    "\n",
    "sample_manager.get_single_sample_attributes({\"sample_name\":\"GAS-2024-0773\",\n",
    "                                       \"assembly_file\":\"GAS-2024-0773.fasta\",\n",
    "                                       \"Illumina_read_files\":\"GAS-2024-0773_S35_L555_R1_001.fastq.gz,GAS-2024-0773_S35_L555_R2_001.fastq.gz\",\n",
    "                                       \"samplesheet\": None})"
   ]
  }
 ],
 "metadata": {
  "kernelspec": {
   "display_name": "python3",
   "language": "python",
   "name": "python3"
  },
  "language_info": {
   "codemirror_mode": {
    "name": "ipython",
    "version": 3
   },
   "file_extension": ".py",
   "mimetype": "text/x-python",
   "name": "python",
   "nbconvert_exporter": "python",
   "pygments_lexer": "ipython3",
   "version": "3.11.10"
  }
 },
 "nbformat": 4,
 "nbformat_minor": 2
}
